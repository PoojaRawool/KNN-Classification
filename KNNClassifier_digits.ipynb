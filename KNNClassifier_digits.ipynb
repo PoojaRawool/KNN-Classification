{
 "cells": [
  {
   "cell_type": "code",
   "execution_count": 1,
   "metadata": {},
   "outputs": [],
   "source": [
    "import pandas as pd\n",
    "import numpy as np\n",
    "import matplotlib.pyplot as plt\n",
    "from sklearn.model_selection import train_test_split"
   ]
  },
  {
   "cell_type": "code",
   "execution_count": 2,
   "metadata": {},
   "outputs": [],
   "source": [
    "from sklearn import datasets"
   ]
  },
  {
   "cell_type": "code",
   "execution_count": 3,
   "metadata": {},
   "outputs": [],
   "source": [
    "digits=datasets.load_digits()\n",
    "x=digits.data\n",
    "y=digits.target"
   ]
  },
  {
   "cell_type": "code",
   "execution_count": 4,
   "metadata": {},
   "outputs": [
    {
     "data": {
      "text/plain": [
       "(1797, 64)"
      ]
     },
     "execution_count": 4,
     "metadata": {},
     "output_type": "execute_result"
    }
   ],
   "source": [
    "x.shape"
   ]
  },
  {
   "cell_type": "code",
   "execution_count": 5,
   "metadata": {},
   "outputs": [
    {
     "data": {
      "text/plain": [
       "(1797,)"
      ]
     },
     "execution_count": 5,
     "metadata": {},
     "output_type": "execute_result"
    }
   ],
   "source": [
    "y.shape"
   ]
  },
  {
   "cell_type": "code",
   "execution_count": 6,
   "metadata": {},
   "outputs": [
    {
     "data": {
      "text/plain": [
       "array([ 0.,  0.,  5., 13.,  9.,  1.,  0.,  0.,  0.,  0., 13., 15., 10.,\n",
       "       15.,  5.,  0.,  0.,  3., 15.,  2.,  0., 11.,  8.,  0.,  0.,  4.,\n",
       "       12.,  0.,  0.,  8.,  8.,  0.,  0.,  5.,  8.,  0.,  0.,  9.,  8.,\n",
       "        0.,  0.,  4., 11.,  0.,  1., 12.,  7.,  0.,  0.,  2., 14.,  5.,\n",
       "       10., 12.,  0.,  0.,  0.,  0.,  6., 13., 10.,  0.,  0.,  0.])"
      ]
     },
     "execution_count": 6,
     "metadata": {},
     "output_type": "execute_result"
    }
   ],
   "source": [
    "x[0]"
   ]
  },
  {
   "cell_type": "code",
   "execution_count": 7,
   "metadata": {},
   "outputs": [
    {
     "name": "stdout",
     "output_type": "stream",
     "text": [
      "[[ 0.  0.  5. 13.  9.  1.  0.  0.]\n",
      " [ 0.  0. 13. 15. 10. 15.  5.  0.]\n",
      " [ 0.  3. 15.  2.  0. 11.  8.  0.]\n",
      " [ 0.  4. 12.  0.  0.  8.  8.  0.]\n",
      " [ 0.  5.  8.  0.  0.  9.  8.  0.]\n",
      " [ 0.  4. 11.  0.  1. 12.  7.  0.]\n",
      " [ 0.  2. 14.  5. 10. 12.  0.  0.]\n",
      " [ 0.  0.  6. 13. 10.  0.  0.  0.]]\n"
     ]
    }
   ],
   "source": [
    "print(digits.images[0])"
   ]
  },
  {
   "cell_type": "code",
   "execution_count": 8,
   "metadata": {},
   "outputs": [],
   "source": [
    "def showdigit(i):\n",
    "    plt.gray()\n",
    "    plt.figure(figsize=[8,8])\n",
    "    plt.matshow(digits.images[i])\n",
    "    plt.show()"
   ]
  },
  {
   "cell_type": "code",
   "execution_count": 9,
   "metadata": {},
   "outputs": [
    {
     "data": {
      "text/plain": [
       "<Figure size 432x288 with 0 Axes>"
      ]
     },
     "metadata": {},
     "output_type": "display_data"
    },
    {
     "data": {
      "text/plain": [
       "<Figure size 576x576 with 0 Axes>"
      ]
     },
     "metadata": {},
     "output_type": "display_data"
    },
    {
     "data": {
      "image/png": "[encoded data removed]",
      "text/plain": [
       "<Figure size 288x288 with 1 Axes>"
      ]
     },
     "metadata": {
      "needs_background": "light"
     },
     "output_type": "display_data"
    }
   ],
   "source": [
    "showdigit(56)"
   ]
  },
  {
   "cell_type": "code",
   "execution_count": 10,
   "metadata": {},
   "outputs": [],
   "source": [
    "def plot_multi(i):\n",
    "    nplots = 9\n",
    "    fig = plt.figure(figsize=(8,8))\n",
    "    for j in range(nplots):\n",
    "        plt.subplot(3,3,j+1)\n",
    "        plt.imshow(digits.images[i+j], cmap='binary')\n",
    "        plt.title(digits.target[i+j])\n",
    "        plt.axis('off')\n",
    "    plt.show()"
   ]
  },
  {
   "cell_type": "code",
   "execution_count": 11,
   "metadata": {},
   "outputs": [
    {
     "data": {
      "image/png": "[encoded data removed]",
      "text/plain": [
       "<Figure size 576x576 with 9 Axes>"
      ]
     },
     "metadata": {
      "needs_background": "light"
     },
     "output_type": "display_data"
    }
   ],
   "source": [
    "plot_multi(12)"
   ]
  },
  {
   "cell_type": "code",
   "execution_count": 12,
   "metadata": {},
   "outputs": [],
   "source": [
    "x_train,x_test,y_train,y_test=train_test_split(x,y,test_size=0.2,random_state=0)"
   ]
  },
  {
   "cell_type": "code",
   "execution_count": 13,
   "metadata": {},
   "outputs": [
    {
     "data": {
      "text/plain": [
       "(1437, 64)"
      ]
     },
     "execution_count": 13,
     "metadata": {},
     "output_type": "execute_result"
    }
   ],
   "source": [
    "x_train.shape"
   ]
  },
  {
   "cell_type": "code",
   "execution_count": 14,
   "metadata": {},
   "outputs": [
    {
     "data": {
      "text/plain": [
       "(360, 64)"
      ]
     },
     "execution_count": 14,
     "metadata": {},
     "output_type": "execute_result"
    }
   ],
   "source": [
    "x_test.shape"
   ]
  },
  {
   "cell_type": "code",
   "execution_count": 15,
   "metadata": {},
   "outputs": [
    {
     "data": {
      "text/plain": [
       "(1437,)"
      ]
     },
     "execution_count": 15,
     "metadata": {},
     "output_type": "execute_result"
    }
   ],
   "source": [
    "y_train.shape"
   ]
  },
  {
   "cell_type": "code",
   "execution_count": 16,
   "metadata": {},
   "outputs": [
    {
     "data": {
      "text/plain": [
       "(360,)"
      ]
     },
     "execution_count": 16,
     "metadata": {},
     "output_type": "execute_result"
    }
   ],
   "source": [
    "y_test.shape"
   ]
  },
  {
   "cell_type": "code",
   "execution_count": 17,
   "metadata": {},
   "outputs": [],
   "source": [
    "from sklearn.neighbors import KNeighborsClassifier"
   ]
  },
  {
   "cell_type": "code",
   "execution_count": 18,
   "metadata": {},
   "outputs": [
    {
     "data": {
      "text/plain": [
       "KNeighborsClassifier(n_neighbors=3)"
      ]
     },
     "execution_count": 18,
     "metadata": {},
     "output_type": "execute_result"
    }
   ],
   "source": [
    "knnclassifier=KNeighborsClassifier(n_neighbors=3)\n",
    "knnclassifier.fit(x_train,y_train)"
   ]
  },
  {
   "cell_type": "code",
   "execution_count": 19,
   "metadata": {},
   "outputs": [
    {
     "name": "stdout",
     "output_type": "stream",
     "text": [
      "[2 8 2 6 6 7 1 9 8 5 2 8 6 6 6 6 1 0 5 8 8 7 8 4 7 5 4 9 2 9 4 7 6 8 9 4 3\n",
      " 1 0 1 8 6 7 7 1 0 7 6 2 1 9 6 7 9 0 0 5 1 6 3 0 2 3 4 1 9 2 6 9 1 8 3 5 1\n",
      " 2 8 2 2 9 7 2 3 6 0 5 3 7 5 1 2 9 9 3 1 7 7 4 8 5 8 5 5 2 5 9 0 7 1 4 7 3\n",
      " 4 8 9 7 9 8 2 6 5 2 5 3 4 8 7 0 6 1 5 9 9 9 5 9 9 5 7 5 6 2 8 6 9 6 1 5 1\n",
      " 5 9 9 1 5 3 6 1 8 9 8 7 6 7 6 5 6 0 8 8 9 3 6 1 0 4 1 6 3 8 6 7 4 9 6 3 0\n",
      " 3 3 3 0 7 7 5 7 8 0 7 8 9 6 4 5 0 1 4 6 4 3 3 0 9 5 9 2 1 4 2 1 6 8 9 2 4\n",
      " 9 3 7 6 2 3 3 1 6 9 3 6 3 2 2 0 7 6 1 1 9 7 2 7 8 5 5 7 5 2 2 7 2 7 5 5 7\n",
      " 0 9 1 6 5 9 7 4 3 8 0 3 6 4 6 3 2 6 8 8 8 4 6 7 5 2 4 5 3 2 4 6 9 4 5 4 3\n",
      " 4 6 2 9 0 1 7 2 0 9 6 0 4 2 0 7 9 8 5 7 8 2 8 4 3 7 2 6 9 1 5 1 0 8 2 5 9\n",
      " 5 6 8 2 7 2 1 5 1 6 4 5 0 9 4 1 1 7 0 8 9 0 5 4 3 8 8]\n"
     ]
    }
   ],
   "source": [
    "print(knnclassifier.predict(x_test))"
   ]
  },
  {
   "cell_type": "code",
   "execution_count": 20,
   "metadata": {},
   "outputs": [
    {
     "name": "stdout",
     "output_type": "stream",
     "text": [
      "0.9833333333333333\n"
     ]
    }
   ],
   "source": [
    "print(knnclassifier.score(x_test,y_test))"
   ]
  },
  {
   "cell_type": "code",
   "execution_count": 21,
   "metadata": {},
   "outputs": [
    {
     "data": {
      "text/plain": [
       "KNeighborsClassifier(n_neighbors=3)"
      ]
     },
     "execution_count": 21,
     "metadata": {},
     "output_type": "execute_result"
    }
   ],
   "source": [
    "knnclassifier"
   ]
  },
  {
   "cell_type": "code",
   "execution_count": 22,
   "metadata": {},
   "outputs": [
    {
     "data": {
      "text/plain": [
       "0.9861111111111112"
      ]
     },
     "execution_count": 22,
     "metadata": {},
     "output_type": "execute_result"
    }
   ],
   "source": [
    "knnclassifier=KNeighborsClassifier(n_neighbors=3,weights=\"distance\",algorithm=\"ball_tree\")\n",
    "knnclassifier.fit(x_train,y_train)\n",
    "knnclassifier.score(x_test,y_test)"
   ]
  },
  {
   "cell_type": "code",
   "execution_count": 23,
   "metadata": {},
   "outputs": [],
   "source": [
    "k_values=np.arange(1,500,2)"
   ]
  },
  {
   "cell_type": "code",
   "execution_count": 24,
   "metadata": {},
   "outputs": [
    {
     "name": "stdout",
     "output_type": "stream",
     "text": [
      "[  1   3   5   7   9  11  13  15  17  19  21  23  25  27  29  31  33  35\n",
      "  37  39  41  43  45  47  49  51  53  55  57  59  61  63  65  67  69  71\n",
      "  73  75  77  79  81  83  85  87  89  91  93  95  97  99 101 103 105 107\n",
      " 109 111 113 115 117 119 121 123 125 127 129 131 133 135 137 139 141 143\n",
      " 145 147 149 151 153 155 157 159 161 163 165 167 169 171 173 175 177 179\n",
      " 181 183 185 187 189 191 193 195 197 199 201 203 205 207 209 211 213 215\n",
      " 217 219 221 223 225 227 229 231 233 235 237 239 241 243 245 247 249 251\n",
      " 253 255 257 259 261 263 265 267 269 271 273 275 277 279 281 283 285 287\n",
      " 289 291 293 295 297 299 301 303 305 307 309 311 313 315 317 319 321 323\n",
      " 325 327 329 331 333 335 337 339 341 343 345 347 349 351 353 355 357 359\n",
      " 361 363 365 367 369 371 373 375 377 379 381 383 385 387 389 391 393 395\n",
      " 397 399 401 403 405 407 409 411 413 415 417 419 421 423 425 427 429 431\n",
      " 433 435 437 439 441 443 445 447 449 451 453 455 457 459 461 463 465 467\n",
      " 469 471 473 475 477 479 481 483 485 487 489 491 493 495 497 499]\n"
     ]
    }
   ],
   "source": [
    "print(k_values)"
   ]
  },
  {
   "cell_type": "code",
   "execution_count": 26,
   "metadata": {},
   "outputs": [
    {
     "name": "stdout",
     "output_type": "stream",
     "text": [
      "k= 1, train_accuracy= 100.00%, test_accuracy= 98.89%\n",
      "k= 3, train_accuracy= 99.10%, test_accuracy= 98.33%\n",
      "k= 5, train_accuracy= 99.03%, test_accuracy= 97.50%\n",
      "k= 7, train_accuracy= 99.10%, test_accuracy= 97.50%\n",
      "k= 9, train_accuracy= 98.75%, test_accuracy= 97.50%\n",
      "k= 11, train_accuracy= 98.89%, test_accuracy= 97.22%\n",
      "k= 13, train_accuracy= 98.47%, test_accuracy= 97.22%\n",
      "k= 15, train_accuracy= 98.40%, test_accuracy= 96.94%\n",
      "k= 17, train_accuracy= 98.12%, test_accuracy= 96.67%\n",
      "k= 19, train_accuracy= 97.84%, test_accuracy= 96.11%\n",
      "k= 21, train_accuracy= 97.77%, test_accuracy= 96.39%\n",
      "k= 23, train_accuracy= 97.49%, test_accuracy= 96.39%\n",
      "k= 25, train_accuracy= 97.22%, test_accuracy= 96.11%\n",
      "k= 27, train_accuracy= 96.80%, test_accuracy= 96.39%\n",
      "k= 29, train_accuracy= 96.73%, test_accuracy= 96.11%\n",
      "k= 31, train_accuracy= 96.66%, test_accuracy= 95.83%\n",
      "k= 33, train_accuracy= 96.52%, test_accuracy= 95.83%\n",
      "k= 35, train_accuracy= 96.45%, test_accuracy= 95.83%\n",
      "k= 37, train_accuracy= 96.17%, test_accuracy= 96.11%\n",
      "k= 39, train_accuracy= 96.10%, test_accuracy= 95.83%\n",
      "k= 41, train_accuracy= 95.76%, test_accuracy= 95.56%\n",
      "k= 43, train_accuracy= 95.48%, test_accuracy= 95.28%\n",
      "k= 45, train_accuracy= 95.48%, test_accuracy= 95.00%\n",
      "k= 47, train_accuracy= 95.27%, test_accuracy= 94.44%\n",
      "k= 49, train_accuracy= 94.85%, test_accuracy= 94.44%\n",
      "k= 51, train_accuracy= 94.57%, test_accuracy= 94.17%\n",
      "k= 53, train_accuracy= 94.43%, test_accuracy= 94.17%\n",
      "k= 55, train_accuracy= 94.43%, test_accuracy= 94.44%\n",
      "k= 57, train_accuracy= 94.15%, test_accuracy= 93.89%\n",
      "k= 59, train_accuracy= 94.08%, test_accuracy= 93.61%\n",
      "k= 61, train_accuracy= 93.95%, test_accuracy= 93.61%\n",
      "k= 63, train_accuracy= 93.95%, test_accuracy= 93.61%\n",
      "k= 65, train_accuracy= 93.60%, test_accuracy= 93.33%\n",
      "k= 67, train_accuracy= 93.53%, test_accuracy= 93.33%\n",
      "k= 69, train_accuracy= 93.53%, test_accuracy= 93.33%\n",
      "k= 71, train_accuracy= 93.53%, test_accuracy= 93.33%\n",
      "k= 73, train_accuracy= 93.18%, test_accuracy= 93.06%\n",
      "k= 75, train_accuracy= 93.25%, test_accuracy= 93.06%\n",
      "k= 77, train_accuracy= 93.18%, test_accuracy= 93.33%\n",
      "k= 79, train_accuracy= 92.90%, test_accuracy= 93.33%\n",
      "k= 81, train_accuracy= 92.76%, test_accuracy= 93.06%\n",
      "k= 83, train_accuracy= 92.90%, test_accuracy= 93.06%\n",
      "k= 85, train_accuracy= 92.62%, test_accuracy= 93.06%\n",
      "k= 87, train_accuracy= 92.35%, test_accuracy= 92.78%\n",
      "k= 89, train_accuracy= 92.35%, test_accuracy= 92.22%\n",
      "k= 91, train_accuracy= 92.14%, test_accuracy= 92.50%\n",
      "k= 93, train_accuracy= 92.28%, test_accuracy= 91.94%\n",
      "k= 95, train_accuracy= 92.07%, test_accuracy= 91.94%\n",
      "k= 97, train_accuracy= 92.00%, test_accuracy= 91.39%\n",
      "k= 99, train_accuracy= 92.07%, test_accuracy= 91.67%\n",
      "k= 101, train_accuracy= 92.07%, test_accuracy= 91.39%\n",
      "k= 103, train_accuracy= 91.65%, test_accuracy= 91.11%\n",
      "k= 105, train_accuracy= 91.86%, test_accuracy= 90.83%\n",
      "k= 107, train_accuracy= 91.65%, test_accuracy= 90.83%\n",
      "k= 109, train_accuracy= 91.72%, test_accuracy= 91.11%\n",
      "k= 111, train_accuracy= 91.37%, test_accuracy= 90.56%\n",
      "k= 113, train_accuracy= 91.30%, test_accuracy= 90.28%\n",
      "k= 115, train_accuracy= 91.30%, test_accuracy= 90.28%\n",
      "k= 117, train_accuracy= 91.09%, test_accuracy= 90.00%\n",
      "k= 119, train_accuracy= 91.09%, test_accuracy= 90.00%\n",
      "k= 121, train_accuracy= 90.95%, test_accuracy= 89.44%\n",
      "k= 123, train_accuracy= 91.02%, test_accuracy= 90.28%\n",
      "k= 125, train_accuracy= 91.02%, test_accuracy= 89.44%\n",
      "k= 127, train_accuracy= 90.95%, test_accuracy= 89.44%\n",
      "k= 129, train_accuracy= 90.88%, test_accuracy= 88.89%\n",
      "k= 131, train_accuracy= 90.74%, test_accuracy= 88.89%\n",
      "k= 133, train_accuracy= 90.81%, test_accuracy= 88.61%\n",
      "k= 135, train_accuracy= 90.68%, test_accuracy= 88.61%\n",
      "k= 137, train_accuracy= 90.61%, test_accuracy= 88.33%\n",
      "k= 139, train_accuracy= 90.54%, test_accuracy= 88.61%\n",
      "k= 141, train_accuracy= 90.40%, test_accuracy= 88.89%\n",
      "k= 143, train_accuracy= 90.19%, test_accuracy= 88.89%\n",
      "k= 145, train_accuracy= 90.26%, test_accuracy= 88.61%\n",
      "k= 147, train_accuracy= 90.12%, test_accuracy= 88.61%\n",
      "k= 149, train_accuracy= 89.91%, test_accuracy= 88.33%\n",
      "k= 151, train_accuracy= 89.91%, test_accuracy= 88.33%\n",
      "k= 153, train_accuracy= 89.84%, test_accuracy= 88.06%\n",
      "k= 155, train_accuracy= 89.84%, test_accuracy= 88.06%\n",
      "k= 157, train_accuracy= 89.70%, test_accuracy= 88.06%\n",
      "k= 159, train_accuracy= 89.56%, test_accuracy= 87.78%\n",
      "k= 161, train_accuracy= 89.70%, test_accuracy= 88.06%\n",
      "k= 163, train_accuracy= 89.77%, test_accuracy= 88.06%\n",
      "k= 165, train_accuracy= 89.63%, test_accuracy= 87.78%\n",
      "k= 167, train_accuracy= 89.63%, test_accuracy= 87.78%\n",
      "k= 169, train_accuracy= 89.63%, test_accuracy= 88.06%\n",
      "k= 171, train_accuracy= 89.49%, test_accuracy= 88.33%\n",
      "k= 173, train_accuracy= 89.42%, test_accuracy= 88.06%\n",
      "k= 175, train_accuracy= 89.28%, test_accuracy= 88.33%\n",
      "k= 177, train_accuracy= 89.35%, test_accuracy= 88.06%\n",
      "k= 179, train_accuracy= 89.42%, test_accuracy= 88.06%\n",
      "k= 181, train_accuracy= 89.42%, test_accuracy= 88.06%\n",
      "k= 183, train_accuracy= 89.28%, test_accuracy= 88.06%\n",
      "k= 185, train_accuracy= 89.35%, test_accuracy= 88.06%\n",
      "k= 187, train_accuracy= 89.42%, test_accuracy= 88.06%\n",
      "k= 189, train_accuracy= 89.28%, test_accuracy= 87.78%\n",
      "k= 191, train_accuracy= 89.21%, test_accuracy= 87.22%\n",
      "k= 193, train_accuracy= 89.07%, test_accuracy= 87.22%\n",
      "k= 195, train_accuracy= 89.14%, test_accuracy= 87.22%\n",
      "k= 197, train_accuracy= 89.07%, test_accuracy= 86.39%\n",
      "k= 199, train_accuracy= 88.80%, test_accuracy= 86.39%\n",
      "k= 201, train_accuracy= 88.80%, test_accuracy= 86.67%\n",
      "k= 203, train_accuracy= 88.80%, test_accuracy= 86.67%\n",
      "k= 205, train_accuracy= 88.59%, test_accuracy= 86.67%\n",
      "k= 207, train_accuracy= 88.80%, test_accuracy= 86.94%\n",
      "k= 209, train_accuracy= 88.80%, test_accuracy= 86.67%\n",
      "k= 211, train_accuracy= 88.80%, test_accuracy= 86.39%\n",
      "k= 213, train_accuracy= 88.87%, test_accuracy= 86.39%\n",
      "k= 215, train_accuracy= 88.73%, test_accuracy= 86.11%\n",
      "k= 217, train_accuracy= 88.52%, test_accuracy= 86.11%\n",
      "k= 219, train_accuracy= 88.59%, test_accuracy= 86.11%\n",
      "k= 221, train_accuracy= 88.45%, test_accuracy= 85.83%\n",
      "k= 223, train_accuracy= 88.45%, test_accuracy= 85.83%\n",
      "k= 225, train_accuracy= 88.17%, test_accuracy= 85.83%\n",
      "k= 227, train_accuracy= 88.17%, test_accuracy= 85.83%\n",
      "k= 229, train_accuracy= 88.17%, test_accuracy= 85.83%\n",
      "k= 231, train_accuracy= 88.31%, test_accuracy= 85.83%\n",
      "k= 233, train_accuracy= 88.31%, test_accuracy= 85.56%\n",
      "k= 235, train_accuracy= 88.31%, test_accuracy= 85.83%\n",
      "k= 237, train_accuracy= 88.17%, test_accuracy= 85.28%\n",
      "k= 239, train_accuracy= 88.17%, test_accuracy= 85.28%\n",
      "k= 241, train_accuracy= 87.96%, test_accuracy= 85.28%\n",
      "k= 243, train_accuracy= 87.89%, test_accuracy= 85.28%\n",
      "k= 245, train_accuracy= 87.40%, test_accuracy= 85.00%\n",
      "k= 247, train_accuracy= 87.20%, test_accuracy= 85.28%\n",
      "k= 249, train_accuracy= 87.13%, test_accuracy= 85.00%\n",
      "k= 251, train_accuracy= 87.27%, test_accuracy= 85.00%\n",
      "k= 253, train_accuracy= 87.20%, test_accuracy= 85.00%\n",
      "k= 255, train_accuracy= 87.13%, test_accuracy= 85.00%\n",
      "k= 257, train_accuracy= 87.13%, test_accuracy= 84.72%\n",
      "k= 259, train_accuracy= 86.92%, test_accuracy= 84.72%\n",
      "k= 261, train_accuracy= 86.92%, test_accuracy= 85.00%\n",
      "k= 263, train_accuracy= 86.92%, test_accuracy= 84.72%\n",
      "k= 265, train_accuracy= 86.99%, test_accuracy= 84.72%\n",
      "k= 267, train_accuracy= 86.85%, test_accuracy= 84.72%\n",
      "k= 269, train_accuracy= 86.57%, test_accuracy= 84.72%\n",
      "k= 271, train_accuracy= 86.36%, test_accuracy= 84.72%\n",
      "k= 273, train_accuracy= 86.22%, test_accuracy= 84.72%\n",
      "k= 275, train_accuracy= 86.36%, test_accuracy= 84.72%\n",
      "k= 277, train_accuracy= 86.36%, test_accuracy= 84.72%\n",
      "k= 279, train_accuracy= 86.08%, test_accuracy= 84.72%\n",
      "k= 281, train_accuracy= 86.15%, test_accuracy= 84.44%\n",
      "k= 283, train_accuracy= 86.08%, test_accuracy= 84.44%\n",
      "k= 285, train_accuracy= 86.22%, test_accuracy= 84.44%\n",
      "k= 287, train_accuracy= 86.36%, test_accuracy= 84.72%\n",
      "k= 289, train_accuracy= 86.29%, test_accuracy= 84.17%\n",
      "k= 291, train_accuracy= 85.94%, test_accuracy= 84.17%\n",
      "k= 293, train_accuracy= 85.66%, test_accuracy= 83.89%\n",
      "k= 295, train_accuracy= 85.46%, test_accuracy= 83.89%\n",
      "k= 297, train_accuracy= 85.66%, test_accuracy= 83.61%\n",
      "k= 299, train_accuracy= 85.66%, test_accuracy= 83.33%\n",
      "k= 301, train_accuracy= 85.53%, test_accuracy= 83.06%\n",
      "k= 303, train_accuracy= 85.25%, test_accuracy= 82.50%\n",
      "k= 305, train_accuracy= 85.18%, test_accuracy= 82.50%\n",
      "k= 307, train_accuracy= 85.18%, test_accuracy= 82.22%\n",
      "k= 309, train_accuracy= 85.04%, test_accuracy= 81.94%\n",
      "k= 311, train_accuracy= 84.97%, test_accuracy= 81.67%\n",
      "k= 313, train_accuracy= 84.90%, test_accuracy= 81.39%\n",
      "k= 315, train_accuracy= 84.69%, test_accuracy= 81.39%\n",
      "k= 317, train_accuracy= 84.83%, test_accuracy= 80.83%\n",
      "k= 319, train_accuracy= 84.69%, test_accuracy= 80.83%\n",
      "k= 321, train_accuracy= 84.55%, test_accuracy= 80.56%\n",
      "k= 323, train_accuracy= 84.48%, test_accuracy= 80.56%\n",
      "k= 325, train_accuracy= 84.41%, test_accuracy= 80.28%\n",
      "k= 327, train_accuracy= 84.13%, test_accuracy= 80.28%\n",
      "k= 329, train_accuracy= 83.92%, test_accuracy= 80.28%\n",
      "k= 331, train_accuracy= 83.99%, test_accuracy= 80.56%\n",
      "k= 333, train_accuracy= 83.92%, test_accuracy= 80.28%\n",
      "k= 335, train_accuracy= 83.99%, test_accuracy= 80.00%\n",
      "k= 337, train_accuracy= 83.79%, test_accuracy= 80.28%\n",
      "k= 339, train_accuracy= 83.72%, test_accuracy= 79.44%\n",
      "k= 341, train_accuracy= 83.86%, test_accuracy= 79.72%\n",
      "k= 343, train_accuracy= 83.37%, test_accuracy= 79.72%\n",
      "k= 345, train_accuracy= 83.37%, test_accuracy= 79.72%\n",
      "k= 347, train_accuracy= 83.23%, test_accuracy= 79.72%\n",
      "k= 349, train_accuracy= 83.16%, test_accuracy= 79.44%\n",
      "k= 351, train_accuracy= 82.88%, test_accuracy= 79.44%\n",
      "k= 353, train_accuracy= 82.88%, test_accuracy= 78.89%\n",
      "k= 355, train_accuracy= 82.74%, test_accuracy= 79.17%\n",
      "k= 357, train_accuracy= 82.53%, test_accuracy= 78.61%\n",
      "k= 359, train_accuracy= 82.32%, test_accuracy= 79.17%\n",
      "k= 361, train_accuracy= 82.05%, test_accuracy= 78.89%\n",
      "k= 363, train_accuracy= 82.32%, test_accuracy= 79.17%\n",
      "k= 365, train_accuracy= 82.25%, test_accuracy= 79.17%\n",
      "k= 367, train_accuracy= 81.42%, test_accuracy= 79.17%\n",
      "k= 369, train_accuracy= 81.49%, test_accuracy= 78.61%\n",
      "k= 371, train_accuracy= 81.21%, test_accuracy= 78.61%\n",
      "k= 373, train_accuracy= 81.42%, test_accuracy= 78.61%\n",
      "k= 375, train_accuracy= 81.28%, test_accuracy= 78.61%\n",
      "k= 377, train_accuracy= 81.21%, test_accuracy= 77.78%\n",
      "k= 379, train_accuracy= 81.07%, test_accuracy= 77.50%\n",
      "k= 381, train_accuracy= 81.00%, test_accuracy= 77.22%\n",
      "k= 383, train_accuracy= 80.79%, test_accuracy= 76.94%\n",
      "k= 385, train_accuracy= 80.45%, test_accuracy= 76.94%\n",
      "k= 387, train_accuracy= 80.31%, test_accuracy= 76.39%\n",
      "k= 389, train_accuracy= 80.45%, test_accuracy= 76.11%\n",
      "k= 391, train_accuracy= 80.31%, test_accuracy= 75.83%\n",
      "k= 393, train_accuracy= 80.17%, test_accuracy= 75.83%\n",
      "k= 395, train_accuracy= 80.31%, test_accuracy= 76.11%\n",
      "k= 397, train_accuracy= 80.10%, test_accuracy= 76.11%\n",
      "k= 399, train_accuracy= 80.17%, test_accuracy= 75.83%\n",
      "k= 401, train_accuracy= 79.96%, test_accuracy= 76.11%\n",
      "k= 403, train_accuracy= 79.68%, test_accuracy= 76.39%\n",
      "k= 405, train_accuracy= 79.75%, test_accuracy= 75.28%\n",
      "k= 407, train_accuracy= 79.54%, test_accuracy= 75.00%\n",
      "k= 409, train_accuracy= 79.40%, test_accuracy= 74.44%\n",
      "k= 411, train_accuracy= 79.12%, test_accuracy= 73.89%\n",
      "k= 413, train_accuracy= 79.12%, test_accuracy= 73.89%\n",
      "k= 415, train_accuracy= 78.84%, test_accuracy= 73.61%\n",
      "k= 417, train_accuracy= 78.71%, test_accuracy= 73.33%\n",
      "k= 419, train_accuracy= 78.50%, test_accuracy= 73.61%\n",
      "k= 421, train_accuracy= 78.29%, test_accuracy= 73.06%\n",
      "k= 423, train_accuracy= 78.01%, test_accuracy= 73.06%\n",
      "k= 425, train_accuracy= 77.52%, test_accuracy= 73.06%\n",
      "k= 427, train_accuracy= 77.59%, test_accuracy= 73.06%\n",
      "k= 429, train_accuracy= 77.38%, test_accuracy= 73.33%\n",
      "k= 431, train_accuracy= 77.38%, test_accuracy= 73.61%\n",
      "k= 433, train_accuracy= 77.59%, test_accuracy= 73.61%\n",
      "k= 435, train_accuracy= 77.52%, test_accuracy= 73.33%\n",
      "k= 437, train_accuracy= 77.31%, test_accuracy= 73.61%\n",
      "k= 439, train_accuracy= 76.97%, test_accuracy= 73.33%\n",
      "k= 441, train_accuracy= 76.76%, test_accuracy= 73.33%\n",
      "k= 443, train_accuracy= 76.69%, test_accuracy= 73.33%\n",
      "k= 445, train_accuracy= 76.76%, test_accuracy= 73.06%\n",
      "k= 447, train_accuracy= 76.34%, test_accuracy= 73.61%\n",
      "k= 449, train_accuracy= 76.34%, test_accuracy= 73.33%\n",
      "k= 451, train_accuracy= 76.27%, test_accuracy= 73.33%\n",
      "k= 453, train_accuracy= 76.34%, test_accuracy= 73.33%\n",
      "k= 455, train_accuracy= 75.99%, test_accuracy= 73.61%\n",
      "k= 457, train_accuracy= 75.64%, test_accuracy= 73.89%\n",
      "k= 459, train_accuracy= 75.71%, test_accuracy= 72.78%\n",
      "k= 461, train_accuracy= 75.57%, test_accuracy= 72.78%\n",
      "k= 463, train_accuracy= 75.09%, test_accuracy= 72.50%\n",
      "k= 465, train_accuracy= 74.88%, test_accuracy= 72.22%\n",
      "k= 467, train_accuracy= 74.88%, test_accuracy= 72.22%\n",
      "k= 469, train_accuracy= 74.88%, test_accuracy= 71.67%\n",
      "k= 471, train_accuracy= 74.67%, test_accuracy= 71.67%\n",
      "k= 473, train_accuracy= 74.60%, test_accuracy= 71.39%\n",
      "k= 475, train_accuracy= 74.11%, test_accuracy= 71.11%\n",
      "k= 477, train_accuracy= 74.04%, test_accuracy= 71.11%\n",
      "k= 479, train_accuracy= 73.83%, test_accuracy= 71.11%\n",
      "k= 481, train_accuracy= 73.70%, test_accuracy= 71.39%\n",
      "k= 483, train_accuracy= 73.70%, test_accuracy= 71.11%\n",
      "k= 485, train_accuracy= 73.63%, test_accuracy= 71.11%\n",
      "k= 487, train_accuracy= 73.70%, test_accuracy= 71.11%\n",
      "k= 489, train_accuracy= 73.42%, test_accuracy= 71.39%\n",
      "k= 491, train_accuracy= 73.35%, test_accuracy= 71.39%\n",
      "k= 493, train_accuracy= 73.35%, test_accuracy= 70.83%\n",
      "k= 495, train_accuracy= 73.28%, test_accuracy= 70.56%\n",
      "k= 497, train_accuracy= 73.21%, test_accuracy= 70.56%\n",
      "k= 499, train_accuracy= 73.07%, test_accuracy= 70.28%\n"
     ]
    }
   ],
   "source": [
    "train_score_arr=[]\n",
    "val_score_arr=[]\n",
    "for k in k_values:\n",
    "    model=KNeighborsClassifier(n_neighbors=k)\n",
    "    model.fit(x_train,y_train)\n",
    "    train_score=model.score(x_train,y_train)\n",
    "    train_score_arr.append(train_score*100)\n",
    "    val_score=model.score(x_test,y_test)\n",
    "    val_score_arr.append(val_score*100)\n",
    "    print(\"k= %d, train_accuracy= %.2f%%, test_accuracy= %.2f%%\"%(k,train_score*100,val_score*100))"
   ]
  },
  {
   "cell_type": "code",
   "execution_count": null,
   "metadata": {},
   "outputs": [],
   "source": [
    "plt.plot(k_values,train_score_arr,'g')\n",
    "plt.plot(k_values,val_score_arr,'r')"
   ]
  },
  {
   "cell_type": "code",
   "execution_count": null,
   "metadata": {},
   "outputs": [],
   "source": []
  }
 ],
 "metadata": {
  "kernelspec": {
   "display_name": "Python 3",
   "language": "python",
   "name": "python3"
  },
  "language_info": {
   "codemirror_mode": {
    "name": "ipython",
    "version": 3
   },
   "file_extension": ".py",
   "mimetype": "text/x-python",
   "name": "python",
   "nbconvert_exporter": "python",
   "pygments_lexer": "ipython3",
   "version": "3.8.5"
  }
 },
 "nbformat": 4,
 "nbformat_minor": 4
}
